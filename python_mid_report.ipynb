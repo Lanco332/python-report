{
  "nbformat": 4,
  "nbformat_minor": 0,
  "metadata": {
    "colab": {
      "provenance": [],
      "authorship_tag": "ABX9TyNZShAqORf3gb0WLKaD/Mm1",
      "include_colab_link": true
    },
    "kernelspec": {
      "name": "python3",
      "display_name": "Python 3"
    },
    "language_info": {
      "name": "python"
    }
  },
  "cells": [
    {
      "cell_type": "markdown",
      "metadata": {
        "id": "view-in-github",
        "colab_type": "text"
      },
      "source": [
        "<a href=\"https://colab.research.google.com/github/Lanco332/python-report/blob/main/python_mid_report.ipynb\" target=\"_parent\"><img src=\"https://colab.research.google.com/assets/colab-badge.svg\" alt=\"Open In Colab\"/></a>"
      ]
    },
    {
      "cell_type": "code",
      "execution_count": 3,
      "metadata": {
        "colab": {
          "base_uri": "https://localhost:8080/"
        },
        "id": "eXeslu0Zd9ZQ",
        "outputId": "42ab3172-2c18-41ac-ba3d-c9dd491d7067"
      },
      "outputs": [
        {
          "output_type": "stream",
          "name": "stdout",
          "text": [
            "[20, 25, 6, 89, 71, 55, 100, 96, 8, 39, 7, 11, 77, 89, 68, 71, 33, 87, 58, 88, 97, 13, 98, 85, 16, 87, 19, 59, 20, 66, 35, 32, 60, 31, 59, 78, 59, 49, 61, 81, 7, 2, 2, 30, 69, 55, 34, 0, 70, 20]\n"
          ]
        }
      ],
      "source": [
        "import random\n",
        "x=[random.randint(0,100)for i in range(50)]\n",
        "print(x)\n",
        "\n"
      ]
    },
    {
      "cell_type": "code",
      "source": [
        "i=len(x)-1\n",
        "while i >= 0:\n",
        "  if x[i] % 2 == 1:\n",
        "    del x[i]\n",
        "  i-=1\n",
        "print(x)"
      ],
      "metadata": {
        "colab": {
          "base_uri": "https://localhost:8080/"
        },
        "id": "V3N0Db--efGe",
        "outputId": "769da048-eb84-48a5-fd71-c4747b49fc3c"
      },
      "execution_count": 11,
      "outputs": [
        {
          "output_type": "stream",
          "name": "stdout",
          "text": [
            "[20, 6, 100, 96, 8, 68, 58, 88, 98, 16, 20, 66, 32, 60, 78, 2, 2, 30, 34, 0, 70, 20]\n"
          ]
        }
      ]
    }
  ]
}